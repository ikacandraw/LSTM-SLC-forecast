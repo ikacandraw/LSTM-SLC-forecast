{
  "nbformat": 4,
  "nbformat_minor": 0,
  "metadata": {
    "colab": {
      "provenance": []
    },
    "kernelspec": {
      "name": "python3",
      "display_name": "Python 3"
    },
    "language_info": {
      "name": "python"
    }
  },
  "cells": [
    {
      "cell_type": "code",
      "execution_count": null,
      "metadata": {
        "colab": {
          "base_uri": "https://localhost:8080/"
        },
        "id": "wf0n-QWIcQo2",
        "outputId": "51ce4212-59dd-4b3e-8f62-4a3b388614c3"
      },
      "outputs": [
        {
          "output_type": "stream",
          "name": "stdout",
          "text": [
            "Drive already mounted at /content/drive; to attempt to forcibly remount, call drive.mount(\"/content/drive\", force_remount=True).\n"
          ]
        }
      ],
      "source": [
        "from google.colab import drive\n",
        "drive.mount('/content/drive')"
      ]
    },
    {
      "cell_type": "code",
      "source": [
        "import pandas as pd\n",
        "df = pd.read_csv(\"drive/MyDrive/SLC price.csv\")\n",
        "import matplotlib.pyplot as plt\n",
        "df1=df.reset_index()['Temp']\n",
        "df[\"Date\"]=pd.to_datetime(df[\"Date\"])\n",
        "plt.plot(df1)\n",
        "df1"
      ],
      "metadata": {
        "colab": {
          "base_uri": "https://localhost:8080/",
          "height": 473
        },
        "id": "PhJMqU7Ncj6o",
        "outputId": "790020a8-effa-424e-947e-ce5258f94b50"
      },
      "execution_count": null,
      "outputs": [
        {
          "output_type": "execute_result",
          "data": {
            "text/plain": [
              "0      15.00\n",
              "1      17.56\n",
              "2      17.56\n",
              "3      18.21\n",
              "4      18.64\n",
              "       ...  \n",
              "391    67.99\n",
              "392    72.25\n",
              "393    81.52\n",
              "394    80.15\n",
              "395    73.03\n",
              "Name: Temp, Length: 396, dtype: float64"
            ]
          },
          "metadata": {},
          "execution_count": 2
        },
        {
          "output_type": "display_data",
          "data": {
            "text/plain": [
              "<Figure size 432x288 with 1 Axes>"
            ],
            "image/png": "[encoded data removed]"
          },
          "metadata": {
            "needs_background": "light"
          }
        }
      ]
    },
    {
      "cell_type": "code",
      "source": [
        "import numpy as np\n",
        "from sklearn.preprocessing import MinMaxScaler\n",
        "scaler=MinMaxScaler(feature_range=(0,1))\n",
        "df1=scaler.fit_transform(np.array(df1).reshape(-1,1))\n",
        "\n",
        "testlen=12\n",
        "training_size=int(len(df1)-testlen)\n",
        "test_size=testlen\n",
        "train_data,test_data=df1[0:training_size,:],df1[training_size:len(df1),:1]\n"
      ],
      "metadata": {
        "id": "2HOuC9wOcz2y"
      },
      "execution_count": null,
      "outputs": []
    },
    {
      "cell_type": "code",
      "source": [
        "import numpy\n",
        "# convert an array of values into a dataset matrix\n",
        "def create_dataset(dataset, time_step=1):\n",
        "\tdataX, dataY = [], []\n",
        "\tfor i in range(len(dataset)-time_step-1):\n",
        "\t\ta = dataset[i:(i+time_step), 0]   ###i=0, 0,1,2,3-----99   100\n",
        "\t\tdataX.append(a)\n",
        "\t\tdataY.append(dataset[i + time_step, 0])\n",
        "\treturn numpy.array(dataX), numpy.array(dataY)\n",
        "\n",
        "time_step = 12\n",
        "X_train, y_train = create_dataset(train_data, time_step)\n",
        "#X_test, ytest = create_dataset(test_data, time_step)\n",
        "\n",
        "print(X_train.shape), print(y_train.shape)\n",
        "#print(X_test.shape), print(ytest.shape)"
      ],
      "metadata": {
        "colab": {
          "base_uri": "https://localhost:8080/"
        },
        "id": "FYuD1MdCc4cq",
        "outputId": "cde8f86f-a411-4073-9549-ccfe2f892894"
      },
      "execution_count": null,
      "outputs": [
        {
          "output_type": "stream",
          "name": "stdout",
          "text": [
            "(371, 12)\n",
            "(371,)\n"
          ]
        },
        {
          "output_type": "execute_result",
          "data": {
            "text/plain": [
              "(None, None)"
            ]
          },
          "metadata": {},
          "execution_count": 4
        }
      ]
    },
    {
      "cell_type": "code",
      "source": [
        "X_train.shape"
      ],
      "metadata": {
        "colab": {
          "base_uri": "https://localhost:8080/"
        },
        "id": "k0rS4AKBgv5L",
        "outputId": "cfe8f998-190e-430d-c25f-ebd1393bce79"
      },
      "execution_count": null,
      "outputs": [
        {
          "output_type": "execute_result",
          "data": {
            "text/plain": [
              "(371, 12)"
            ]
          },
          "metadata": {},
          "execution_count": 5
        }
      ]
    },
    {
      "cell_type": "code",
      "source": [
        "X_test= df1[-24:-12]\n",
        "ytest = test_data"
      ],
      "metadata": {
        "id": "MwRjS6gxg0a0"
      },
      "execution_count": null,
      "outputs": []
    },
    {
      "cell_type": "code",
      "source": [
        "from tensorflow.keras.models import Sequential\n",
        "from tensorflow.keras.layers import Dense\n",
        "from tensorflow.keras.layers import LSTM\n",
        "\n",
        "model=Sequential()\n",
        "model.add(LSTM(50,return_sequences=True,input_shape=(12,1)))\n",
        "model.add(LSTM(50,return_sequences=True))\n",
        "model.add(LSTM(50))\n",
        "model.add(Dense(1))\n",
        "model.compile(loss='mean_squared_error',optimizer='adam')\n",
        "\n",
        "model.fit(X_train,y_train,validation_data=(X_test,ytest),epochs=100,batch_size=250,verbose=1)"
      ],
      "metadata": {
        "colab": {
          "base_uri": "https://localhost:8080/"
        },
        "id": "_EG7LEQSc7Lu",
        "outputId": "357244e3-1c26-49a2-fb60-554322ce6cc6"
      },
      "execution_count": null,
      "outputs": [
        {
          "output_type": "stream",
          "name": "stdout",
          "text": [
            "Epoch 1/100\n",
            "2/2 [==============================] - ETA: 0s - loss: 0.1511 WARNING:tensorflow:Model was constructed with shape (None, 12, 1) for input KerasTensor(type_spec=TensorSpec(shape=(None, 12, 1), dtype=tf.float32, name='lstm_input'), name='lstm_input', description=\"created by layer 'lstm_input'\"), but it was called on an input with incompatible shape (None, 1, 1).\n",
            "2/2 [==============================] - 17s 3s/step - loss: 0.1511 - val_loss: 0.2068\n",
            "Epoch 2/100\n",
            "2/2 [==============================] - 0s 147ms/step - loss: 0.1059 - val_loss: 0.2005\n",
            "Epoch 3/100\n",
            "2/2 [==============================] - 0s 158ms/step - loss: 0.0636 - val_loss: 0.1944\n",
            "Epoch 4/100\n",
            "2/2 [==============================] - 0s 116ms/step - loss: 0.0318 - val_loss: 0.1888\n",
            "Epoch 5/100\n",
            "2/2 [==============================] - 0s 101ms/step - loss: 0.0245 - val_loss: 0.1853\n",
            "Epoch 6/100\n",
            "2/2 [==============================] - 0s 112ms/step - loss: 0.0379 - val_loss: 0.1848\n",
            "Epoch 7/100\n",
            "2/2 [==============================] - 0s 129ms/step - loss: 0.0297 - val_loss: 0.1860\n",
            "Epoch 8/100\n",
            "2/2 [==============================] - 0s 128ms/step - loss: 0.0191 - val_loss: 0.1875\n",
            "Epoch 9/100\n",
            "2/2 [==============================] - 0s 158ms/step - loss: 0.0194 - val_loss: 0.1888\n",
            "Epoch 10/100\n",
            "2/2 [==============================] - 0s 101ms/step - loss: 0.0217 - val_loss: 0.1894\n",
            "Epoch 11/100\n",
            "2/2 [==============================] - 0s 115ms/step - loss: 0.0220 - val_loss: 0.1893\n",
            "Epoch 12/100\n",
            "2/2 [==============================] - 0s 123ms/step - loss: 0.0190 - val_loss: 0.1888\n",
            "Epoch 13/100\n",
            "2/2 [==============================] - 0s 69ms/step - loss: 0.0155 - val_loss: 0.1881\n",
            "Epoch 14/100\n",
            "2/2 [==============================] - 0s 85ms/step - loss: 0.0134 - val_loss: 0.1876\n",
            "Epoch 15/100\n",
            "2/2 [==============================] - 0s 68ms/step - loss: 0.0147 - val_loss: 0.1877\n",
            "Epoch 16/100\n",
            "2/2 [==============================] - 0s 67ms/step - loss: 0.0158 - val_loss: 0.1884\n",
            "Epoch 17/100\n",
            "2/2 [==============================] - 0s 65ms/step - loss: 0.0141 - val_loss: 0.1894\n",
            "Epoch 18/100\n",
            "2/2 [==============================] - 0s 77ms/step - loss: 0.0128 - val_loss: 0.1904\n",
            "Epoch 19/100\n",
            "2/2 [==============================] - 0s 62ms/step - loss: 0.0134 - val_loss: 0.1910\n",
            "Epoch 20/100\n",
            "2/2 [==============================] - 0s 59ms/step - loss: 0.0141 - val_loss: 0.1910\n",
            "Epoch 21/100\n",
            "2/2 [==============================] - 0s 59ms/step - loss: 0.0138 - val_loss: 0.1906\n",
            "Epoch 22/100\n",
            "2/2 [==============================] - 0s 63ms/step - loss: 0.0128 - val_loss: 0.1900\n",
            "Epoch 23/100\n",
            "2/2 [==============================] - 0s 62ms/step - loss: 0.0126 - val_loss: 0.1893\n",
            "Epoch 24/100\n",
            "2/2 [==============================] - 0s 62ms/step - loss: 0.0130 - val_loss: 0.1890\n",
            "Epoch 25/100\n",
            "2/2 [==============================] - 0s 63ms/step - loss: 0.0133 - val_loss: 0.1890\n",
            "Epoch 26/100\n",
            "2/2 [==============================] - 0s 79ms/step - loss: 0.0127 - val_loss: 0.1892\n",
            "Epoch 27/100\n",
            "2/2 [==============================] - 0s 64ms/step - loss: 0.0125 - val_loss: 0.1895\n",
            "Epoch 28/100\n",
            "2/2 [==============================] - 0s 61ms/step - loss: 0.0127 - val_loss: 0.1895\n",
            "Epoch 29/100\n",
            "2/2 [==============================] - 0s 62ms/step - loss: 0.0127 - val_loss: 0.1891\n",
            "Epoch 30/100\n",
            "2/2 [==============================] - 0s 71ms/step - loss: 0.0124 - val_loss: 0.1887\n",
            "Epoch 31/100\n",
            "2/2 [==============================] - 0s 66ms/step - loss: 0.0122 - val_loss: 0.1884\n",
            "Epoch 32/100\n",
            "2/2 [==============================] - 0s 64ms/step - loss: 0.0122 - val_loss: 0.1882\n",
            "Epoch 33/100\n",
            "2/2 [==============================] - 0s 63ms/step - loss: 0.0122 - val_loss: 0.1883\n",
            "Epoch 34/100\n",
            "2/2 [==============================] - 0s 66ms/step - loss: 0.0121 - val_loss: 0.1885\n",
            "Epoch 35/100\n",
            "2/2 [==============================] - 0s 63ms/step - loss: 0.0121 - val_loss: 0.1887\n",
            "Epoch 36/100\n",
            "2/2 [==============================] - 0s 74ms/step - loss: 0.0120 - val_loss: 0.1888\n",
            "Epoch 37/100\n",
            "2/2 [==============================] - 0s 63ms/step - loss: 0.0120 - val_loss: 0.1888\n",
            "Epoch 38/100\n",
            "2/2 [==============================] - 0s 62ms/step - loss: 0.0119 - val_loss: 0.1888\n",
            "Epoch 39/100\n",
            "2/2 [==============================] - 0s 62ms/step - loss: 0.0118 - val_loss: 0.1888\n",
            "Epoch 40/100\n",
            "2/2 [==============================] - 0s 61ms/step - loss: 0.0118 - val_loss: 0.1888\n",
            "Epoch 41/100\n",
            "2/2 [==============================] - 0s 72ms/step - loss: 0.0117 - val_loss: 0.1887\n",
            "Epoch 42/100\n",
            "2/2 [==============================] - 0s 62ms/step - loss: 0.0117 - val_loss: 0.1887\n",
            "Epoch 43/100\n",
            "2/2 [==============================] - 0s 68ms/step - loss: 0.0117 - val_loss: 0.1887\n",
            "Epoch 44/100\n",
            "2/2 [==============================] - 0s 62ms/step - loss: 0.0116 - val_loss: 0.1886\n",
            "Epoch 45/100\n",
            "2/2 [==============================] - 0s 71ms/step - loss: 0.0116 - val_loss: 0.1886\n",
            "Epoch 46/100\n",
            "2/2 [==============================] - 0s 65ms/step - loss: 0.0115 - val_loss: 0.1885\n",
            "Epoch 47/100\n",
            "2/2 [==============================] - 0s 60ms/step - loss: 0.0115 - val_loss: 0.1885\n",
            "Epoch 48/100\n",
            "2/2 [==============================] - 0s 60ms/step - loss: 0.0114 - val_loss: 0.1884\n",
            "Epoch 49/100\n",
            "2/2 [==============================] - 0s 72ms/step - loss: 0.0114 - val_loss: 0.1882\n",
            "Epoch 50/100\n",
            "2/2 [==============================] - 0s 59ms/step - loss: 0.0113 - val_loss: 0.1880\n",
            "Epoch 51/100\n",
            "2/2 [==============================] - 0s 63ms/step - loss: 0.0114 - val_loss: 0.1880\n",
            "Epoch 52/100\n",
            "2/2 [==============================] - 0s 66ms/step - loss: 0.0113 - val_loss: 0.1883\n",
            "Epoch 53/100\n",
            "2/2 [==============================] - 0s 63ms/step - loss: 0.0112 - val_loss: 0.1886\n",
            "Epoch 54/100\n",
            "2/2 [==============================] - 0s 60ms/step - loss: 0.0112 - val_loss: 0.1886\n",
            "Epoch 55/100\n",
            "2/2 [==============================] - 0s 60ms/step - loss: 0.0112 - val_loss: 0.1884\n",
            "Epoch 56/100\n",
            "2/2 [==============================] - 0s 61ms/step - loss: 0.0110 - val_loss: 0.1881\n",
            "Epoch 57/100\n",
            "2/2 [==============================] - 0s 66ms/step - loss: 0.0111 - val_loss: 0.1879\n",
            "Epoch 58/100\n",
            "2/2 [==============================] - 0s 66ms/step - loss: 0.0109 - val_loss: 0.1880\n",
            "Epoch 59/100\n",
            "2/2 [==============================] - 0s 65ms/step - loss: 0.0109 - val_loss: 0.1881\n",
            "Epoch 60/100\n",
            "2/2 [==============================] - 0s 71ms/step - loss: 0.0109 - val_loss: 0.1880\n",
            "Epoch 61/100\n",
            "2/2 [==============================] - 0s 61ms/step - loss: 0.0108 - val_loss: 0.1877\n",
            "Epoch 62/100\n",
            "2/2 [==============================] - 0s 63ms/step - loss: 0.0107 - val_loss: 0.1875\n",
            "Epoch 63/100\n",
            "2/2 [==============================] - 0s 62ms/step - loss: 0.0106 - val_loss: 0.1875\n",
            "Epoch 64/100\n",
            "2/2 [==============================] - 0s 73ms/step - loss: 0.0105 - val_loss: 0.1876\n",
            "Epoch 65/100\n",
            "2/2 [==============================] - 0s 62ms/step - loss: 0.0105 - val_loss: 0.1876\n",
            "Epoch 66/100\n",
            "2/2 [==============================] - 0s 64ms/step - loss: 0.0104 - val_loss: 0.1874\n",
            "Epoch 67/100\n",
            "2/2 [==============================] - 0s 69ms/step - loss: 0.0103 - val_loss: 0.1873\n",
            "Epoch 68/100\n",
            "2/2 [==============================] - 0s 62ms/step - loss: 0.0103 - val_loss: 0.1873\n",
            "Epoch 69/100\n",
            "2/2 [==============================] - 0s 67ms/step - loss: 0.0102 - val_loss: 0.1873\n",
            "Epoch 70/100\n",
            "2/2 [==============================] - 0s 63ms/step - loss: 0.0102 - val_loss: 0.1871\n",
            "Epoch 71/100\n",
            "2/2 [==============================] - 0s 65ms/step - loss: 0.0100 - val_loss: 0.1868\n",
            "Epoch 72/100\n",
            "2/2 [==============================] - 0s 71ms/step - loss: 0.0099 - val_loss: 0.1867\n",
            "Epoch 73/100\n",
            "2/2 [==============================] - 0s 65ms/step - loss: 0.0099 - val_loss: 0.1866\n",
            "Epoch 74/100\n",
            "2/2 [==============================] - 0s 63ms/step - loss: 0.0097 - val_loss: 0.1865\n",
            "Epoch 75/100\n",
            "2/2 [==============================] - 0s 63ms/step - loss: 0.0096 - val_loss: 0.1865\n",
            "Epoch 76/100\n",
            "2/2 [==============================] - 0s 62ms/step - loss: 0.0095 - val_loss: 0.1866\n",
            "Epoch 77/100\n",
            "2/2 [==============================] - 0s 96ms/step - loss: 0.0094 - val_loss: 0.1866\n",
            "Epoch 78/100\n",
            "2/2 [==============================] - 0s 64ms/step - loss: 0.0093 - val_loss: 0.1865\n",
            "Epoch 79/100\n",
            "2/2 [==============================] - 0s 68ms/step - loss: 0.0092 - val_loss: 0.1862\n",
            "Epoch 80/100\n",
            "2/2 [==============================] - 0s 61ms/step - loss: 0.0091 - val_loss: 0.1858\n",
            "Epoch 81/100\n",
            "2/2 [==============================] - 0s 65ms/step - loss: 0.0090 - val_loss: 0.1858\n",
            "Epoch 82/100\n",
            "2/2 [==============================] - 0s 65ms/step - loss: 0.0088 - val_loss: 0.1857\n",
            "Epoch 83/100\n",
            "2/2 [==============================] - 0s 68ms/step - loss: 0.0087 - val_loss: 0.1855\n",
            "Epoch 84/100\n",
            "2/2 [==============================] - 0s 65ms/step - loss: 0.0086 - val_loss: 0.1854\n",
            "Epoch 85/100\n",
            "2/2 [==============================] - 0s 62ms/step - loss: 0.0084 - val_loss: 0.1853\n",
            "Epoch 86/100\n",
            "2/2 [==============================] - 0s 69ms/step - loss: 0.0083 - val_loss: 0.1851\n",
            "Epoch 87/100\n",
            "2/2 [==============================] - 0s 79ms/step - loss: 0.0082 - val_loss: 0.1850\n",
            "Epoch 88/100\n",
            "2/2 [==============================] - 0s 63ms/step - loss: 0.0083 - val_loss: 0.1849\n",
            "Epoch 89/100\n",
            "2/2 [==============================] - 0s 68ms/step - loss: 0.0079 - val_loss: 0.1847\n",
            "Epoch 90/100\n",
            "2/2 [==============================] - 0s 67ms/step - loss: 0.0081 - val_loss: 0.1848\n",
            "Epoch 91/100\n",
            "2/2 [==============================] - 0s 63ms/step - loss: 0.0079 - val_loss: 0.1848\n",
            "Epoch 92/100\n",
            "2/2 [==============================] - 0s 65ms/step - loss: 0.0081 - val_loss: 0.1846\n",
            "Epoch 93/100\n",
            "2/2 [==============================] - 0s 64ms/step - loss: 0.0078 - val_loss: 0.1845\n",
            "Epoch 94/100\n",
            "2/2 [==============================] - 0s 61ms/step - loss: 0.0077 - val_loss: 0.1843\n",
            "Epoch 95/100\n",
            "2/2 [==============================] - 0s 63ms/step - loss: 0.0076 - val_loss: 0.1844\n",
            "Epoch 96/100\n",
            "2/2 [==============================] - 0s 60ms/step - loss: 0.0077 - val_loss: 0.1843\n",
            "Epoch 97/100\n",
            "2/2 [==============================] - 0s 65ms/step - loss: 0.0074 - val_loss: 0.1839\n",
            "Epoch 98/100\n",
            "2/2 [==============================] - 0s 63ms/step - loss: 0.0078 - val_loss: 0.1840\n",
            "Epoch 99/100\n",
            "2/2 [==============================] - 0s 67ms/step - loss: 0.0076 - val_loss: 0.1841\n",
            "Epoch 100/100\n",
            "2/2 [==============================] - 0s 63ms/step - loss: 0.0077 - val_loss: 0.1837\n"
          ]
        },
        {
          "output_type": "execute_result",
          "data": {
            "text/plain": [
              "<keras.callbacks.History at 0x7faea78d6950>"
            ]
          },
          "metadata": {},
          "execution_count": 7
        }
      ]
    },
    {
      "cell_type": "code",
      "source": [
        "import tensorflow as tf\n",
        "### Lets Do the prediction and check performance metrics\n",
        "train_predict=model.predict(X_train)\n",
        "test_predict=model.predict(X_test)"
      ],
      "metadata": {
        "id": "lPT4BBZ0c-71",
        "colab": {
          "base_uri": "https://localhost:8080/"
        },
        "outputId": "187d76d8-0c9a-4603-d81d-db1a88fbc7fd"
      },
      "execution_count": null,
      "outputs": [
        {
          "output_type": "stream",
          "name": "stdout",
          "text": [
            "WARNING:tensorflow:Model was constructed with shape (None, 12, 1) for input KerasTensor(type_spec=TensorSpec(shape=(None, 12, 1), dtype=tf.float32, name='lstm_input'), name='lstm_input', description=\"created by layer 'lstm_input'\"), but it was called on an input with incompatible shape (None, 1, 1).\n"
          ]
        }
      ]
    },
    {
      "cell_type": "code",
      "source": [
        "train_predict=scaler.inverse_transform(train_predict)\n",
        "test_predict=scaler.inverse_transform(test_predict)"
      ],
      "metadata": {
        "id": "knAtEYXldKd9"
      },
      "execution_count": null,
      "outputs": []
    },
    {
      "cell_type": "code",
      "source": [
        "import math\n",
        "from sklearn.metrics import mean_squared_error\n",
        "math.sqrt(mean_squared_error(y_train,train_predict))\n",
        "#%%\n",
        "### Test Data RMSE\n",
        "ytest = scaler.inverse_transform(ytest.reshape(-1,1))\n",
        "print(math.sqrt(mean_squared_error(ytest,test_predict)))\n",
        "\n"
      ],
      "metadata": {
        "colab": {
          "base_uri": "https://localhost:8080/"
        },
        "id": "ZWv92_m1dNZG",
        "outputId": "472c4494-4263-46a1-c986-5fc539c2d631"
      },
      "execution_count": null,
      "outputs": [
        {
          "output_type": "stream",
          "name": "stdout",
          "text": [
            "55.211473665776744\n"
          ]
        }
      ]
    },
    {
      "cell_type": "code",
      "source": [
        "mape = np.mean(np.abs((ytest - test_predict)/ytest))*100\n",
        "print(mape)"
      ],
      "metadata": {
        "colab": {
          "base_uri": "https://localhost:8080/"
        },
        "id": "fvcju79HpRrg",
        "outputId": "cc0a1707-1a07-4cff-98a0-615973ef2e56"
      },
      "execution_count": null,
      "outputs": [
        {
          "output_type": "stream",
          "name": "stdout",
          "text": [
            "79.05619262879875\n"
          ]
        }
      ]
    },
    {
      "cell_type": "code",
      "source": [
        "##Train data RMSE\n",
        "y_train =scaler.inverse_transform(y_train.reshape(-1,1))\n",
        "print(math.sqrt(mean_squared_error(y_train,train_predict)))\n",
        "mape = np.mean(np.abs((y_train - train_predict)/y_train))*100\n",
        "print(mape)"
      ],
      "metadata": {
        "colab": {
          "base_uri": "https://localhost:8080/"
        },
        "id": "NKerQfWfoKtV",
        "outputId": "3a0298c7-b37d-4fa9-d062-fca35c2e4ccb"
      },
      "execution_count": null,
      "outputs": [
        {
          "output_type": "stream",
          "name": "stdout",
          "text": [
            "11.03592448154668\n",
            "16.661199779094808\n"
          ]
        }
      ]
    },
    {
      "cell_type": "code",
      "source": [
        "test_predict"
      ],
      "metadata": {
        "colab": {
          "base_uri": "https://localhost:8080/"
        },
        "id": "25GhLvR8fbwz",
        "outputId": "365a6053-f78f-4e31-c1cf-99f0a9355cb4"
      },
      "execution_count": null,
      "outputs": [
        {
          "output_type": "execute_result",
          "data": {
            "text/plain": [
              "array([[15.164802 ],\n",
              "       [14.830781 ],\n",
              "       [14.009057 ],\n",
              "       [13.4908085],\n",
              "       [13.693012 ],\n",
              "       [14.133246 ],\n",
              "       [14.255119 ],\n",
              "       [14.293012 ],\n",
              "       [14.135917 ],\n",
              "       [14.156143 ],\n",
              "       [14.276933 ],\n",
              "       [14.532986 ]], dtype=float32)"
            ]
          },
          "metadata": {},
          "execution_count": 13
        }
      ]
    },
    {
      "cell_type": "code",
      "source": [
        "ytest"
      ],
      "metadata": {
        "colab": {
          "base_uri": "https://localhost:8080/"
        },
        "id": "S-J_zc4kffyC",
        "outputId": "0635a0df-5376-41ae-da26-0de102a80e33"
      },
      "execution_count": null,
      "outputs": [
        {
          "output_type": "execute_result",
          "data": {
            "text/plain": [
              "array([[54.41],\n",
              "       [61.42],\n",
              "       [64.06],\n",
              "       [62.67],\n",
              "       [66.25],\n",
              "       [70.82],\n",
              "       [72.65],\n",
              "       [67.99],\n",
              "       [72.25],\n",
              "       [81.52],\n",
              "       [80.15],\n",
              "       [73.03]])"
            ]
          },
          "metadata": {},
          "execution_count": 14
        }
      ]
    },
    {
      "cell_type": "code",
      "source": [
        "#%%\n",
        "### Plotting\n",
        "# shift train predictions for plotting\n",
        "look_back=12\n",
        "trainPredictPlot = numpy.empty_like(df1)\n",
        "trainPredictPlot[:, :] = np.nan\n",
        "train_pedict =\n",
        "trainPredictPlot[look_back:len(train_predict)+look_back, :] = train_predict\n",
        "# shift test predictions for plotting\n",
        "testPredictPlot = test_predict\n",
        "# plot baseline and predictions\n",
        "plt.plot(scaler.inverse_transform(df1),label=\"Aktual\")\n",
        "plt.plot(trainPredictPlot,label=\"Prediction\")\n",
        "plt.plot(range(len(df1)-12,len(df1)),testPredictPlot)\n",
        "plt.ylabel(\"Harga SLC (US$/barrel)\")\n",
        "plt.legend()\n",
        "plt.show()"
      ],
      "metadata": {
        "colab": {
          "base_uri": "https://localhost:8080/",
          "height": 265
        },
        "id": "FIwjuyQLdPhp",
        "outputId": "8dd2084e-38d4-4df8-8cf0-85265bcadad3"
      },
      "execution_count": null,
      "outputs": [
        {
          "output_type": "display_data",
          "data": {
            "text/plain": [
              "<Figure size 432x288 with 1 Axes>"
            ],
            "image/png": "[encoded data removed]"
          },
          "metadata": {
            "needs_background": "light"
          }
        }
      ]
    },
    {
      "cell_type": "code",
      "source": [
        "train_predict.shape"
      ],
      "metadata": {
        "colab": {
          "base_uri": "https://localhost:8080/"
        },
        "id": "sKZrGCZQsWM6",
        "outputId": "3df74535-0d21-43e7-c7f4-f83f1d4730ef"
      },
      "execution_count": null,
      "outputs": [
        {
          "output_type": "execute_result",
          "data": {
            "text/plain": [
              "(371, 1)"
            ]
          },
          "metadata": {},
          "execution_count": 16
        }
      ]
    },
    {
      "cell_type": "code",
      "source": [
        "dff = df[-12:]\n",
        "plt.plot(dff[\"Date\"],ytest,label=\"Aktual\")\n",
        "plt.plot(dff[\"Date\"],test_predict,label=\"Prediksi\")\n",
        "plt.legend()\n",
        "plt.xlabel(\"Bulan\")\n",
        "plt.ylabel(\"Harga SLC (US$/barrel)\")"
      ],
      "metadata": {
        "colab": {
          "base_uri": "https://localhost:8080/",
          "height": 296
        },
        "id": "U0MmlH-pA8tE",
        "outputId": "f0101c58-e6fe-4add-d5ec-683ffaddf24d"
      },
      "execution_count": null,
      "outputs": [
        {
          "output_type": "execute_result",
          "data": {
            "text/plain": [
              "Text(0, 0.5, 'Harga SLC (US$/barrel)')"
            ]
          },
          "metadata": {},
          "execution_count": 24
        },
        {
          "output_type": "display_data",
          "data": {
            "text/plain": [
              "<Figure size 432x288 with 1 Axes>"
            ],
            "image/png": "[encoded data removed]"
          },
          "metadata": {
            "needs_background": "light"
          }
        }
      ]
    },
    {
      "cell_type": "code",
      "source": [
        "x_input=test_data.reshape(1,-1)\n",
        "x_input.shape\n",
        "\n",
        "temp_input=list(x_input)\n",
        "temp_input=temp_input[0].tolist()\n",
        "\n",
        "# demonstrate prediction for next 10 days\n",
        "from numpy import array\n",
        "\n",
        "lst_output=[]\n",
        "n_steps=12\n",
        "i=0\n",
        "while(i<12):\n",
        "\n",
        "    if(len(temp_input)>12):\n",
        "        #print(temp_input)\n",
        "        x_input=np.array(temp_input[1:])\n",
        "        print(\"{} day input {}\".format(i,x_input))\n",
        "        x_input=x_input.reshape(1,-1)\n",
        "        x_input = x_input.reshape((1, n_steps, 1))\n",
        "        #print(x_input)\n",
        "        yhat = model.predict(x_input, verbose=0)\n",
        "        print(\"{} day output {}\".format(i,yhat))\n",
        "        temp_input.extend(yhat[0].tolist())\n",
        "        temp_input=temp_input[1:]\n",
        "        #print(temp_input)\n",
        "        lst_output.extend(yhat.tolist())\n",
        "        i=i+1\n",
        "    else:\n",
        "        x_input = x_input.reshape((1, n_steps,1))\n",
        "        yhat = model.predict(x_input, verbose=0)\n",
        "        print(yhat[0])\n",
        "        temp_input.extend(yhat[0].tolist())\n",
        "        print(len(temp_input))\n",
        "        lst_output.extend(yhat.tolist())\n",
        "        i=i+1\n",
        "\n",
        "\n",
        "print(lst_output)"
      ],
      "metadata": {
        "colab": {
          "base_uri": "https://localhost:8080/"
        },
        "id": "UFHILVy6de2O",
        "outputId": "d8bc41e7-567a-4590-f63d-9d4180767065"
      },
      "execution_count": null,
      "outputs": [
        {
          "output_type": "stream",
          "name": "stdout",
          "text": [
            "[0.54052657]\n",
            "13\n",
            "1 day input [0.39981368 0.42030898 0.40951789 0.43731077 0.47278938 0.48699635\n",
            " 0.45081904 0.483891   0.55585746 0.54522164 0.48994643 0.54052657]\n",
            "1 day output [[0.54961795]]\n",
            "2 day input [0.42030898 0.40951789 0.43731077 0.47278938 0.48699635 0.45081904\n",
            " 0.483891   0.55585746 0.54522164 0.48994643 0.54052657 0.54961795]\n",
            "2 day output [[0.5590541]]\n",
            "3 day input [0.40951789 0.43731077 0.47278938 0.48699635 0.45081904 0.483891\n",
            " 0.55585746 0.54522164 0.48994643 0.54052657 0.54961795 0.55905408]\n",
            "3 day output [[0.5678682]]\n",
            "4 day input [0.43731077 0.47278938 0.48699635 0.45081904 0.483891   0.55585746\n",
            " 0.54522164 0.48994643 0.54052657 0.54961795 0.55905408 0.56786817]\n",
            "4 day output [[0.57444817]]\n",
            "5 day input [0.47278938 0.48699635 0.45081904 0.483891   0.55585746 0.54522164\n",
            " 0.48994643 0.54052657 0.54961795 0.55905408 0.56786817 0.57444817]\n",
            "5 day output [[0.5812277]]\n",
            "6 day input [0.48699635 0.45081904 0.483891   0.55585746 0.54522164 0.48994643\n",
            " 0.54052657 0.54961795 0.55905408 0.56786817 0.57444817 0.58122772]\n",
            "6 day output [[0.5890084]]\n",
            "7 day input [0.45081904 0.483891   0.55585746 0.54522164 0.48994643 0.54052657\n",
            " 0.54961795 0.55905408 0.56786817 0.57444817 0.58122772 0.58900839]\n",
            "7 day output [[0.5965897]]\n",
            "8 day input [0.483891   0.55585746 0.54522164 0.48994643 0.54052657 0.54961795\n",
            " 0.55905408 0.56786817 0.57444817 0.58122772 0.58900839 0.59658968]\n",
            "8 day output [[0.60045135]]\n",
            "9 day input [0.55585746 0.54522164 0.48994643 0.54052657 0.54961795 0.55905408\n",
            " 0.56786817 0.57444817 0.58122772 0.58900839 0.59658968 0.60045135]\n",
            "9 day output [[0.60509765]]\n",
            "10 day input [0.54522164 0.48994643 0.54052657 0.54961795 0.55905408 0.56786817\n",
            " 0.57444817 0.58122772 0.58900839 0.59658968 0.60045135 0.60509765]\n",
            "10 day output [[0.61361736]]\n",
            "11 day input [0.48994643 0.54052657 0.54961795 0.55905408 0.56786817 0.57444817\n",
            " 0.58122772 0.58900839 0.59658968 0.60045135 0.60509765 0.61361736]\n",
            "11 day output [[0.62046945]]\n",
            "[[0.5405265688896179], [0.5496179461479187], [0.5590540766716003], [0.567868173122406], [0.5744481682777405], [0.581227719783783], [0.5890083909034729], [0.5965896844863892], [0.6004513502120972], [0.6050976514816284], [0.6136173605918884], [0.6204694509506226]]\n"
          ]
        }
      ]
    },
    {
      "cell_type": "code",
      "source": [
        "day_new=np.arange(1,13)\n",
        "day_pred=np.arange(13,25)\n",
        "len(df1)\n",
        "plt.plot(day_new,scaler.inverse_transform(df1[384:]))\n",
        "plt.plot(day_pred,scaler.inverse_transform(lst_output))\n"
      ],
      "metadata": {
        "colab": {
          "base_uri": "https://localhost:8080/",
          "height": 282
        },
        "id": "NeRHtITBdTiz",
        "outputId": "b52cc02b-0bcb-457f-a5c7-5a41d1897a5a"
      },
      "execution_count": null,
      "outputs": [
        {
          "output_type": "execute_result",
          "data": {
            "text/plain": [
              "[<matplotlib.lines.Line2D at 0x7faea720e1d0>]"
            ]
          },
          "metadata": {},
          "execution_count": 18
        },
        {
          "output_type": "display_data",
          "data": {
            "text/plain": [
              "<Figure size 432x288 with 1 Axes>"
            ],
            "image/png": "[encoded data removed]"
          },
          "metadata": {
            "needs_background": "light"
          }
        }
      ]
    },
    {
      "cell_type": "code",
      "source": [
        "day_pred,scaler.inverse_transform(lst_output)"
      ],
      "metadata": {
        "id": "uzJ7DScSD_st",
        "outputId": "5556e511-1bbb-4adf-b266-6662c92de9f8",
        "colab": {
          "base_uri": "https://localhost:8080/"
        }
      },
      "execution_count": null,
      "outputs": [
        {
          "output_type": "execute_result",
          "data": {
            "text/plain": [
              "(array([13, 14, 15, 16, 17, 18, 19, 20, 21, 22, 23, 24]), array([[79.54522734],\n",
              "        [80.71628764],\n",
              "        [81.93175562],\n",
              "        [83.06709938],\n",
              "        [83.91466856],\n",
              "        [84.78794259],\n",
              "        [85.79017083],\n",
              "        [86.76671726],\n",
              "        [87.26413842],\n",
              "        [87.86262849],\n",
              "        [88.96005222],\n",
              "        [89.84266998]]))"
            ]
          },
          "metadata": {},
          "execution_count": 25
        }
      ]
    },
    {
      "cell_type": "code",
      "source": [
        "dff = df[-12:]\n",
        "plt.plot(dff[\"Date\"],ytest,label=\"Aktual\")\n",
        "plt.plot(dff[\"Date\"],test_predict,label=\"Prediksi\")\n",
        "plt.xlabel(\"Bulan\")\n",
        "plt.ylabel(\"Harga SLC (US$/barrel)\")"
      ],
      "metadata": {
        "colab": {
          "base_uri": "https://localhost:8080/",
          "height": 296
        },
        "id": "e1K5SZAKs-Zr",
        "outputId": "88920bd5-32be-4348-c965-8451516ffa31"
      },
      "execution_count": null,
      "outputs": [
        {
          "output_type": "execute_result",
          "data": {
            "text/plain": [
              "Text(0, 0.5, 'Harga SLC (US$/barrel)')"
            ]
          },
          "metadata": {},
          "execution_count": 19
        },
        {
          "output_type": "display_data",
          "data": {
            "text/plain": [
              "<Figure size 432x288 with 1 Axes>"
            ],
            "image/png": "[encoded data removed]"
          },
          "metadata": {
            "needs_background": "light"
          }
        }
      ]
    },
    {
      "cell_type": "code",
      "source": [
        "df3=df1.tolist()\n",
        "df3.extend(lst_output)\n",
        "plt.plot(df3[384:])\n",
        "\n",
        "\n",
        "\n"
      ],
      "metadata": {
        "colab": {
          "base_uri": "https://localhost:8080/",
          "height": 282
        },
        "id": "W32puqhUdnNi",
        "outputId": "b59bff77-8b5b-4f0a-d69e-2d5e26d731dc"
      },
      "execution_count": null,
      "outputs": [
        {
          "output_type": "execute_result",
          "data": {
            "text/plain": [
              "[<matplotlib.lines.Line2D at 0x7faea2e87310>]"
            ]
          },
          "metadata": {},
          "execution_count": 20
        },
        {
          "output_type": "display_data",
          "data": {
            "text/plain": [
              "<Figure size 432x288 with 1 Axes>"
            ],
            "image/png": "[encoded data removed]"
          },
          "metadata": {
            "needs_background": "light"
          }
        }
      ]
    },
    {
      "cell_type": "code",
      "source": [
        "df3=scaler.inverse_transform(df3).tolist()\n",
        "plt.plot(df3[384:])"
      ],
      "metadata": {
        "colab": {
          "base_uri": "https://localhost:8080/",
          "height": 282
        },
        "id": "D-Q1STWJdsRq",
        "outputId": "5d7ffc27-08cf-47c8-c10f-2201454d3dd3"
      },
      "execution_count": null,
      "outputs": [
        {
          "output_type": "execute_result",
          "data": {
            "text/plain": [
              "[<matplotlib.lines.Line2D at 0x7faea2d48ad0>]"
            ]
          },
          "metadata": {},
          "execution_count": 21
        },
        {
          "output_type": "display_data",
          "data": {
            "text/plain": [
              "<Figure size 432x288 with 1 Axes>"
            ],
            "image/png": "[encoded data removed]"
          },
          "metadata": {
            "needs_background": "light"
          }
        }
      ]
    },
    {
      "cell_type": "code",
      "source": [],
      "metadata": {
        "id": "HYf4Cyh6d_D0"
      },
      "execution_count": null,
      "outputs": []
    }
  ]
}